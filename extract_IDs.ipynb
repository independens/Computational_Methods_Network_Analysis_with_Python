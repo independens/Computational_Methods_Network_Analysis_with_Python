{
 "cells": [
  {
   "cell_type": "code",
   "execution_count": 2,
   "id": "80b28623",
   "metadata": {},
   "outputs": [
    {
     "name": "stdout",
     "output_type": "stream",
     "text": [
      "Extracted 0 unique player IDs.\n",
      "Saved to: player_ids.csv\n"
     ]
    }
   ],
   "source": [
    "import re\n",
    "import pandas as pd\n",
    "\n",
    "# Load the content from the JavaScript file\n",
    "file_path = \"UnofficialWC.BgLQD9UB.js\"\n",
    "with open(file_path, \"r\", encoding=\"utf-8\") as f:\n",
    "    content = f.read()\n",
    "\n",
    "# Regular expression to find all winnerid and loserid values\n",
    "ids = re.findall(r'\"(?:winnerid|loserid)\"\\s*:\\s*\"([^\"]+)\"', content)\n",
    "\n",
    "# Get unique player IDs and sort them\n",
    "unique_ids = sorted(set(ids))\n",
    "\n",
    "# Convert to a DataFrame\n",
    "df_ids = pd.DataFrame(unique_ids, columns=[\"player_id\"])\n",
    "\n",
    "# Save to CSV\n",
    "csv_path = \"player_ids.csv\"\n",
    "df_ids.to_csv(csv_path, index=False)\n",
    "\n",
    "print(f\"Extracted {len(unique_ids)} unique player IDs.\")\n",
    "print(f\"Saved to: {csv_path}\")\n"
   ]
  }
 ],
 "metadata": {
  "kernelspec": {
   "display_name": "Python 3",
   "language": "python",
   "name": "python3"
  },
  "language_info": {
   "codemirror_mode": {
    "name": "ipython",
    "version": 3
   },
   "file_extension": ".py",
   "mimetype": "text/x-python",
   "name": "python",
   "nbconvert_exporter": "python",
   "pygments_lexer": "ipython3",
   "version": "3.11.4"
  }
 },
 "nbformat": 4,
 "nbformat_minor": 5
}
