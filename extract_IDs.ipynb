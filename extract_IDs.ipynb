{
 "cells": [
  {
   "cell_type": "code",
   "execution_count": null,
   "id": "80b28623",
   "metadata": {},
   "outputs": [
    {
     "name": "stdout",
     "output_type": "stream",
     "text": [
      "Extracted 0 unique player IDs.\n",
      "Saved to: player_ids.csv\n"
     ]
    }
   ],
   "source": [
    "import json\n",
    "import pandas as pd\n",
    "\n",
    "# Load the content from the JavaScript file\n",
    "file_path = \"WC_convertet.json\"\n",
    "with open(file_path, \"r\", encoding=\"utf-8\") as f:\n",
    "    content = json.load(f)\n",
    "\n",
    "#find all winnerid and loserid values\n",
    "ids = \n",
    "\n",
    "# Get unique player IDs and sort them\n",
    "unique_ids = sorted(set(ids))\n",
    "\n",
    "# Convert to a DataFrame\n",
    "df_ids = pd.DataFrame(unique_ids, columns=[\"player_id\"])\n",
    "\n",
    "# Save to CSV\n",
    "csv_path = \"player_ids.csv\"\n",
    "df_ids.to_csv(csv_path, index=False)\n",
    "\n",
    "print(f\"Extracted {len(unique_ids)} unique player IDs.\")\n",
    "print(f\"Saved to: {csv_path}\")\n"
   ]
  },
  {
   "cell_type": "code",
   "execution_count": null,
   "id": "8fd03c58",
   "metadata": {},
   "outputs": [],
   "source": [
    "import json\n",
    "import csv\n",
    "\n",
    "# Load data from GatheringStats_players.json\n",
    "with open('WC_convertet.json', 'r', encoding='utf-8') as f:\n",
    "    events = json.load(f)\n",
    "\n",
    "# Write WCPlayers.csv\n",
    "with open('WCMatches.csv', 'w', newline='', encoding='utf-8') as f:\n",
    "    writer = csv.DictWriter(f, fieldnames=[\n",
    "        \"event\",\"round\", \"winner\", \"winnerid\", \"loser\", \"loserid\"\n",
    "    ])\n",
    "    writer.writeheader()\n",
    "    for info in events:\n",
    "        writer.writerow({\n",
    "            \"event\": info.get(\"event\", \"empty\"),\n",
    "            \"round\": info.get(\"round\", \"empty\"), \n",
    "            \"winner\": info.get(\"winner\", \"empty\"), \n",
    "            \"winnerid\": info.get(\"winnerid\",\"empty\"), \n",
    "            \"loser\": info.get(\"loser\", \"empty\"),\n",
    "            \"loserid\": info.get(\"loserid\",\"empty\")\n",
    "        })"
   ]
  },
  {
   "cell_type": "markdown",
   "id": "248630c5",
   "metadata": {},
   "source": [
    "cleaned the data set"
   ]
  },
  {
   "cell_type": "code",
   "execution_count": 7,
   "id": "21867c4a",
   "metadata": {},
   "outputs": [],
   "source": [
    "import json\n",
    "\n",
    "# Load the JSON data\n",
    "with open('GatheringStats_tournaments.json', 'r', encoding='utf-8') as f:\n",
    "    tournaments = json.load(f)\n",
    "\n",
    "cleaned_tournaments = []\n",
    "for t in tournaments.values():\n",
    "    player_names = [p['name'] for p in t.get('standings', [])]\n",
    "    cleaned = {\n",
    "        'name': t.get('name'),\n",
    "        'date': t.get('date'),\n",
    "        'location': t.get('location'),\n",
    "        'id': t.get('id'),\n",
    "        'players': player_names\n",
    "    }\n",
    "    cleaned_tournaments.append(cleaned)\n",
    "\n",
    "# Write the cleaned data to a new file\n",
    "with open('GatheringStats_tournaments_cleaned.json', 'w', encoding='utf-8') as f:\n",
    "    json.dump(cleaned_tournaments, f, indent=2)"
   ]
  }
 ],
 "metadata": {
  "kernelspec": {
   "display_name": "Python 3",
   "language": "python",
   "name": "python3"
  },
  "language_info": {
   "codemirror_mode": {
    "name": "ipython",
    "version": 3
   },
   "file_extension": ".py",
   "mimetype": "text/x-python",
   "name": "python",
   "nbconvert_exporter": "python",
   "pygments_lexer": "ipython3",
   "version": "3.12.10"
  }
 },
 "nbformat": 4,
 "nbformat_minor": 5
}
