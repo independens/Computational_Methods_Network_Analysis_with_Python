{
 "cells": [
  {
   "cell_type": "code",
   "execution_count": 5,
   "id": "37431dfb",
   "metadata": {},
   "outputs": [
    {
     "data": {
      "text/html": [
       "<div>\n",
       "<style scoped>\n",
       "    .dataframe tbody tr th:only-of-type {\n",
       "        vertical-align: middle;\n",
       "    }\n",
       "\n",
       "    .dataframe tbody tr th {\n",
       "        vertical-align: top;\n",
       "    }\n",
       "\n",
       "    .dataframe thead th {\n",
       "        text-align: right;\n",
       "    }\n",
       "</style>\n",
       "<table border=\"1\" class=\"dataframe\">\n",
       "  <thead>\n",
       "    <tr style=\"text-align: right;\">\n",
       "      <th></th>\n",
       "      <th>winnerid</th>\n",
       "      <th>loserid</th>\n",
       "    </tr>\n",
       "  </thead>\n",
       "  <tbody>\n",
       "    <tr>\n",
       "      <th>0</th>\n",
       "      <td>7d05pfwn</td>\n",
       "      <td>jfvflnna</td>\n",
       "    </tr>\n",
       "    <tr>\n",
       "      <th>1</th>\n",
       "      <td>o8q1tnkp</td>\n",
       "      <td>o8q1tnkp</td>\n",
       "    </tr>\n",
       "    <tr>\n",
       "      <th>2</th>\n",
       "      <td>akq5t76h</td>\n",
       "      <td>akq5t76h</td>\n",
       "    </tr>\n",
       "    <tr>\n",
       "      <th>3</th>\n",
       "      <td>ng9mpb4s</td>\n",
       "      <td>ng9mpb4s</td>\n",
       "    </tr>\n",
       "    <tr>\n",
       "      <th>4</th>\n",
       "      <td>ng9mpb4s</td>\n",
       "      <td>ng9mpb4s</td>\n",
       "    </tr>\n",
       "    <tr>\n",
       "      <th>...</th>\n",
       "      <td>...</td>\n",
       "      <td>...</td>\n",
       "    </tr>\n",
       "    <tr>\n",
       "      <th>2783</th>\n",
       "      <td>dq44xncy</td>\n",
       "      <td>222vn7x7</td>\n",
       "    </tr>\n",
       "    <tr>\n",
       "      <th>2784</th>\n",
       "      <td>g7umra42</td>\n",
       "      <td>g7umra42</td>\n",
       "    </tr>\n",
       "    <tr>\n",
       "      <th>2785</th>\n",
       "      <td>g7umra42</td>\n",
       "      <td>222vn7x7</td>\n",
       "    </tr>\n",
       "    <tr>\n",
       "      <th>2786</th>\n",
       "      <td>g7umra42</td>\n",
       "      <td>dq44xncy</td>\n",
       "    </tr>\n",
       "    <tr>\n",
       "      <th>2787</th>\n",
       "      <td>exwav16j</td>\n",
       "      <td>exwav16j</td>\n",
       "    </tr>\n",
       "  </tbody>\n",
       "</table>\n",
       "<p>2788 rows × 2 columns</p>\n",
       "</div>"
      ],
      "text/plain": [
       "      winnerid   loserid\n",
       "0     7d05pfwn  jfvflnna\n",
       "1     o8q1tnkp  o8q1tnkp\n",
       "2     akq5t76h  akq5t76h\n",
       "3     ng9mpb4s  ng9mpb4s\n",
       "4     ng9mpb4s  ng9mpb4s\n",
       "...        ...       ...\n",
       "2783  dq44xncy  222vn7x7\n",
       "2784  g7umra42  g7umra42\n",
       "2785  g7umra42  222vn7x7\n",
       "2786  g7umra42  dq44xncy\n",
       "2787  exwav16j  exwav16j\n",
       "\n",
       "[2788 rows x 2 columns]"
      ]
     },
     "execution_count": 5,
     "metadata": {},
     "output_type": "execute_result"
    }
   ],
   "source": [
    "import pandas as pd\n",
    "import requests\n",
    "\n",
    "matches = pd.read_csv('WCMatches.csv')\n",
    "matches.columns\n",
    "matches[[\"winnerid\",\"loserid\"]]\n",
    "\n",
    "\n"
   ]
  },
  {
   "cell_type": "code",
   "execution_count": 16,
   "id": "bd27a553",
   "metadata": {},
   "outputs": [
    {
     "name": "stdout",
     "output_type": "stream",
     "text": [
      "1210\n"
     ]
    }
   ],
   "source": [
    "unique_ids = pd.concat([matches['winnerid'], matches['loserid']]).unique()\n",
    "print(unique_ids.size)"
   ]
  },
  {
   "cell_type": "code",
   "execution_count": null,
   "id": "7a303774",
   "metadata": {},
   "outputs": [
    {
     "name": "stdout",
     "output_type": "stream",
     "text": [
      "  player_id                                             events  \\\n",
      "0  7d05pfwn  {'data': [{'code': 'ptla98', 'cut_before': '8....   \n",
      "1  o8q1tnkp  {'data': [{'code': 'ptla9899', 'cut_before': '...   \n",
      "2  akq5t76h  {'data': [{'code': 'ptla98', 'cut_before': '8....   \n",
      "3  ng9mpb4s  {'data': [{'code': 'ptla98', 'cut_before': '8....   \n",
      "4  i8olnjut  {'data': [{'code': 'ptrome98', 'cut_before': '...   \n",
      "5  7h18qwbk  {'data': [{'code': 'gpkc99', 'cut_before': '7....   \n",
      "6  h0x63109  {'data': [{'code': 'ptla9899', 'cut_before': '...   \n",
      "7  xva9s4ab  {'data': [{'code': 'gpsd99', 'cut_before': '8....   \n",
      "8  dabm23qk  {'data': [{'code': 'gpdc99', 'cut_before': '8....   \n",
      "9  79nnamgm  {'data': [{'code': 'ptla98', 'cut_before': '8....   \n",
      "\n",
      "                                             matches  \n",
      "0  {'ptla98': [{'match_id': 13, 'round': '1', 'ta...  \n",
      "1  {'ptla9899': [{'match_id': 5717, 'round': '1',...  \n",
      "2  {'ptla98': [{'match_id': 42, 'round': '1', 'ta...  \n",
      "3  {'ptla98': [{'match_id': 87, 'round': '1', 'ta...  \n",
      "4  {'ptrome98': [{'match_id': 3476, 'round': '1',...  \n",
      "5  {'gpkc99': [{'match_id': 8255, 'round': '4', '...  \n",
      "6  {'ptla9899': [{'match_id': 5840, 'round': '1',...  \n",
      "7  {'gpsd99': [{'match_id': 21197, 'round': '1', ...  \n",
      "8  {'gpdc99': [{'match_id': 11854, 'round': '1', ...  \n",
      "9  {'ptla98': [{'match_id': 68, 'round': '1', 'ta...  \n"
     ]
    }
   ],
   "source": [
    "import time\n",
    "\n",
    "player_info = pd.DataFrame()\n",
    "for player_id in unique_ids[:10]:\n",
    "    url_events = f\"https://mtgeloproject.net/api/players/{player_id}/events\"\n",
    "    url_matches = f\"https://mtgeloproject.net/api/players/{player_id}/matches\"\n",
    "    response_events = requests.get(url_events)\n",
    "    response_matches = requests.get(url_matches)\n",
    "    \n",
    "    # Convert responses to JSON\n",
    "    events_data = response_events.json()\n",
    "    matches_data = response_matches.json()\n",
    "    \n",
    "    # Combine data into a single dictionary for the player\n",
    "    player_data = {\n",
    "        \"player_id\": player_id,\n",
    "        \"events\": events_data,\n",
    "        \"matches\": matches_data\n",
    "    }\n",
    "    # Append as a new row\n",
    "    player_info = pd.concat([player_info, pd.DataFrame([player_data])], ignore_index=True)\n",
    "    time.sleep(0.5) #wait 0.5 second to not pummel the server\n",
    "\n",
    "\n",
    "player_info.to_csv(\"EloPlayerinfo.csv\")\n",
    "print(player_info)"
   ]
  }
 ],
 "metadata": {
  "kernelspec": {
   "display_name": "Python 3",
   "language": "python",
   "name": "python3"
  },
  "language_info": {
   "codemirror_mode": {
    "name": "ipython",
    "version": 3
   },
   "file_extension": ".py",
   "mimetype": "text/x-python",
   "name": "python",
   "nbconvert_exporter": "python",
   "pygments_lexer": "ipython3",
   "version": "3.12.10"
  }
 },
 "nbformat": 4,
 "nbformat_minor": 5
}
