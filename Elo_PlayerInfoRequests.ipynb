{
 "cells": [
  {
   "cell_type": "code",
   "execution_count": 1,
   "id": "37431dfb",
   "metadata": {},
   "outputs": [
    {
     "data": {
      "application/vnd.microsoft.datawrangler.viewer.v0+json": {
       "columns": [
        {
         "name": "index",
         "rawType": "int64",
         "type": "integer"
        },
        {
         "name": "winnerid",
         "rawType": "object",
         "type": "string"
        },
        {
         "name": "loserid",
         "rawType": "object",
         "type": "string"
        }
       ],
       "ref": "798f0f64-a738-48d5-9c40-e0307028887a",
       "rows": [
        [
         "0",
         "7d05pfwn",
         "jfvflnna"
        ],
        [
         "1",
         "o8q1tnkp",
         "o8q1tnkp"
        ],
        [
         "2",
         "akq5t76h",
         "akq5t76h"
        ],
        [
         "3",
         "ng9mpb4s",
         "ng9mpb4s"
        ],
        [
         "4",
         "ng9mpb4s",
         "ng9mpb4s"
        ],
        [
         "5",
         "i8olnjut",
         "ng9mpb4s"
        ],
        [
         "6",
         "i8olnjut",
         "kbmn0wei"
        ],
        [
         "7",
         "7h18qwbk",
         "i8olnjut"
        ],
        [
         "8",
         "h0x63109",
         "7h18qwbk"
        ],
        [
         "9",
         "xva9s4ab",
         "h0x63109"
        ],
        [
         "10",
         "dabm23qk",
         "xva9s4ab"
        ],
        [
         "11",
         "dabm23qk",
         "zlby3yyg"
        ],
        [
         "12",
         "79nnamgm",
         "79nnamgm"
        ],
        [
         "13",
         "eicssc44",
         "79nnamgm"
        ],
        [
         "14",
         "za15eg9p",
         "eicssc44"
        ],
        [
         "15",
         "za15eg9p",
         "pg01kjgb"
        ],
        [
         "16",
         "za15eg9p",
         "w53abt0c"
        ],
        [
         "17",
         "79nnamgm",
         "79nnamgm"
        ],
        [
         "18",
         "poe0gmt9",
         "poe0gmt9"
        ],
        [
         "19",
         "poe0gmt9",
         "poe0gmt9"
        ],
        [
         "20",
         "ehdksfwi",
         "poe0gmt9"
        ],
        [
         "21",
         "ehdksfwi",
         "ehdksfwi"
        ],
        [
         "22",
         "ehdksfwi",
         "ehdksfwi"
        ],
        [
         "23",
         "ehdksfwi",
         "ehdksfwi"
        ],
        [
         "24",
         "7d05pfwn",
         "ehdksfwi"
        ],
        [
         "25",
         "7d05pfwn",
         "cce4gcqr"
        ],
        [
         "26",
         "7d05pfwn",
         "7d05pfwn"
        ],
        [
         "27",
         "x1lebg8w",
         "7d05pfwn"
        ],
        [
         "28",
         "x1lebg8w",
         "ehdksfwi"
        ],
        [
         "29",
         "zxhxt8nk",
         "x1lebg8w"
        ],
        [
         "30",
         "zxhxt8nk",
         "1g4pmqvd"
        ],
        [
         "31",
         "zxhxt8nk",
         "zxhxt8nk"
        ],
        [
         "32",
         "zxhxt8nk",
         "zxhxt8nk"
        ],
        [
         "33",
         "zxhxt8nk",
         "zxhxt8nk"
        ],
        [
         "34",
         "w7qi2ff1",
         "w7qi2ff1"
        ],
        [
         "35",
         "h1hbo4vr",
         "h1hbo4vr"
        ],
        [
         "36",
         "h1hbo4vr",
         "h1hbo4vr"
        ],
        [
         "37",
         "kskr994g",
         "h1hbo4vr"
        ],
        [
         "38",
         "jx2cj5u0",
         "jx2cj5u0"
        ],
        [
         "39",
         "jx2cj5u0",
         "oblwv6w8"
        ],
        [
         "40",
         "sj1mmye0",
         "jx2cj5u0"
        ],
        [
         "41",
         "sj1mmye0",
         "sj1mmye0"
        ],
        [
         "42",
         "j58u64wq",
         "sj1mmye0"
        ],
        [
         "43",
         "wwsjy024",
         "j58u64wq"
        ],
        [
         "44",
         "wwsjy024",
         "iypepmkm"
        ],
        [
         "45",
         "za15eg9p",
         "za15eg9p"
        ],
        [
         "46",
         "kbmn0wei",
         "za15eg9p"
        ],
        [
         "47",
         "w5ff12z1",
         "w5ff12z1"
        ],
        [
         "48",
         "048qk4aa",
         "048qk4aa"
        ],
        [
         "49",
         "048qk4aa",
         "eyqvwcds"
        ]
       ],
       "shape": {
        "columns": 2,
        "rows": 2788
       }
      },
      "text/html": [
       "<div>\n",
       "<style scoped>\n",
       "    .dataframe tbody tr th:only-of-type {\n",
       "        vertical-align: middle;\n",
       "    }\n",
       "\n",
       "    .dataframe tbody tr th {\n",
       "        vertical-align: top;\n",
       "    }\n",
       "\n",
       "    .dataframe thead th {\n",
       "        text-align: right;\n",
       "    }\n",
       "</style>\n",
       "<table border=\"1\" class=\"dataframe\">\n",
       "  <thead>\n",
       "    <tr style=\"text-align: right;\">\n",
       "      <th></th>\n",
       "      <th>winnerid</th>\n",
       "      <th>loserid</th>\n",
       "    </tr>\n",
       "  </thead>\n",
       "  <tbody>\n",
       "    <tr>\n",
       "      <th>0</th>\n",
       "      <td>7d05pfwn</td>\n",
       "      <td>jfvflnna</td>\n",
       "    </tr>\n",
       "    <tr>\n",
       "      <th>1</th>\n",
       "      <td>o8q1tnkp</td>\n",
       "      <td>o8q1tnkp</td>\n",
       "    </tr>\n",
       "    <tr>\n",
       "      <th>2</th>\n",
       "      <td>akq5t76h</td>\n",
       "      <td>akq5t76h</td>\n",
       "    </tr>\n",
       "    <tr>\n",
       "      <th>3</th>\n",
       "      <td>ng9mpb4s</td>\n",
       "      <td>ng9mpb4s</td>\n",
       "    </tr>\n",
       "    <tr>\n",
       "      <th>4</th>\n",
       "      <td>ng9mpb4s</td>\n",
       "      <td>ng9mpb4s</td>\n",
       "    </tr>\n",
       "    <tr>\n",
       "      <th>...</th>\n",
       "      <td>...</td>\n",
       "      <td>...</td>\n",
       "    </tr>\n",
       "    <tr>\n",
       "      <th>2783</th>\n",
       "      <td>dq44xncy</td>\n",
       "      <td>222vn7x7</td>\n",
       "    </tr>\n",
       "    <tr>\n",
       "      <th>2784</th>\n",
       "      <td>g7umra42</td>\n",
       "      <td>g7umra42</td>\n",
       "    </tr>\n",
       "    <tr>\n",
       "      <th>2785</th>\n",
       "      <td>g7umra42</td>\n",
       "      <td>222vn7x7</td>\n",
       "    </tr>\n",
       "    <tr>\n",
       "      <th>2786</th>\n",
       "      <td>g7umra42</td>\n",
       "      <td>dq44xncy</td>\n",
       "    </tr>\n",
       "    <tr>\n",
       "      <th>2787</th>\n",
       "      <td>exwav16j</td>\n",
       "      <td>exwav16j</td>\n",
       "    </tr>\n",
       "  </tbody>\n",
       "</table>\n",
       "<p>2788 rows × 2 columns</p>\n",
       "</div>"
      ],
      "text/plain": [
       "      winnerid   loserid\n",
       "0     7d05pfwn  jfvflnna\n",
       "1     o8q1tnkp  o8q1tnkp\n",
       "2     akq5t76h  akq5t76h\n",
       "3     ng9mpb4s  ng9mpb4s\n",
       "4     ng9mpb4s  ng9mpb4s\n",
       "...        ...       ...\n",
       "2783  dq44xncy  222vn7x7\n",
       "2784  g7umra42  g7umra42\n",
       "2785  g7umra42  222vn7x7\n",
       "2786  g7umra42  dq44xncy\n",
       "2787  exwav16j  exwav16j\n",
       "\n",
       "[2788 rows x 2 columns]"
      ]
     },
     "execution_count": 1,
     "metadata": {},
     "output_type": "execute_result"
    }
   ],
   "source": [
    "import pandas as pd\n",
    "import requests\n",
    "import os\n",
    "import time\n",
    "\n",
    "matches = pd.read_csv('WCMatches.csv')\n",
    "matches.columns\n",
    "matches[[\"winnerid\",\"loserid\"]]\n",
    "\n",
    "\n"
   ]
  },
  {
   "cell_type": "code",
   "execution_count": 2,
   "id": "bd27a553",
   "metadata": {},
   "outputs": [
    {
     "name": "stdout",
     "output_type": "stream",
     "text": [
      "1210\n"
     ]
    }
   ],
   "source": [
    "# Ensure unique_ids is unique\n",
    "unique_ids = pd.concat([matches['winnerid'], matches['loserid']]).unique()\n",
    "print(unique_ids.size)\n",
    "player_info = pd.DataFrame()"
   ]
  },
  {
   "cell_type": "code",
   "execution_count": 11,
   "id": "7a303774",
   "metadata": {},
   "outputs": [
    {
     "name": "stdout",
     "output_type": "stream",
     "text": [
      "List done\n"
     ]
    }
   ],
   "source": [
    "import os\n",
    "# Load existing player_info if it exists, otherwise create empty DataFrame\n",
    "player_info_path = \"EloPlayerinfo.csv\"\n",
    "if os.path.exists(player_info_path):\n",
    "    player_info = pd.read_csv(player_info_path, low_memory=False)\n",
    "    processed_ids = set(player_info['player_id'].unique())\n",
    "else:\n",
    "    player_info = pd.DataFrame()\n",
    "    processed_ids = set()\n",
    "\n",
    "# Only process player_ids that are not already in player_info\n",
    "to_process = [pid for pid in unique_ids if pid not in processed_ids]\n",
    "\n",
    "for idx, player_id in enumerate(to_process, start=len(processed_ids)):\n",
    "    url_events = f\"https://mtgeloproject.net/api/players/{player_id}/events\"\n",
    "    url_matches = f\"https://mtgeloproject.net/api/players/{player_id}/matches\"\n",
    "    response_events = requests.get(url_events)\n",
    "    response_matches = requests.get(url_matches)\n",
    "    \n",
    "    # Convert responses to JSON\n",
    "    events_data = response_events.json()\n",
    "    matches_data = response_matches.json()\n",
    "\n",
    "    #flatten and rename events\n",
    "    events_data_df = pd.DataFrame(events_data['data'])\n",
    "    events_data_df = events_data_df.rename(columns={\"code\":\"tournament_code\"})\n",
    "\n",
    "    # Flatten matches_data so each match is a row, including tournament code\n",
    "    all_matches = []\n",
    "    for tournament_code, matches_list in matches_data.items():\n",
    "        for match in matches_list:\n",
    "            match_copy = match.copy()\n",
    "            match_copy['tournament_code'] = tournament_code\n",
    "            all_matches.append(match_copy)\n",
    "    matches_data_flat_df = pd.DataFrame(all_matches)\n",
    "\n",
    "    # Expand own_elo and opp_data columns into separate columns and drop duplicate column\n",
    "    matches_data_flat_df = matches_data_flat_df.join(pd.json_normalize(matches_data_flat_df.pop('own_elo')).add_prefix('own_elo_'))\n",
    "    matches_data_flat_df = matches_data_flat_df.join(pd.json_normalize(matches_data_flat_df.pop('opp_data')).add_prefix('opp_'))\n",
    "    matches_data_flat_df = matches_data_flat_df.drop(columns = \"format\")\n",
    "\n",
    "    # Merge matches and events on event code\n",
    "    merged_df = pd.merge(matches_data_flat_df, events_data_df, on=\"tournament_code\", how=\"left\", copy=False)\n",
    "    #add player id\n",
    "    merged_df.insert(loc=0, column= \"player_id\", value=player_id)\n",
    "\n",
    "    # Append merged_df to player_info\n",
    "    player_info = pd.concat([player_info, merged_df], ignore_index=True)\n",
    "\n",
    "    print(f\"Index: {idx}, Player ID: {player_id}\")\n",
    "    time.sleep(0.5) #wait 0.5 second to not pummel the server\n",
    "\n",
    "# Save player_info after all data is collected\n",
    "player_info.to_csv(\"EloPlayerinfo.csv\", index=False)\n",
    "print(\"List done\")"
   ]
  },
  {
   "cell_type": "code",
   "execution_count": 12,
   "id": "91ad28ee",
   "metadata": {},
   "outputs": [
    {
     "name": "stdout",
     "output_type": "stream",
     "text": [
      "90506\n"
     ]
    }
   ],
   "source": [
    "#find if new id's that have not been in the list before have come up\n",
    "unique_ids_update = pd.concat([player_info['player_id'], player_info['opp_id']]).unique()\n",
    "print(unique_ids_update.size)"
   ]
  },
  {
   "cell_type": "code",
   "execution_count": null,
   "id": "15e1259b",
   "metadata": {},
   "outputs": [],
   "source": []
  }
 ],
 "metadata": {
  "kernelspec": {
   "display_name": "Python 3",
   "language": "python",
   "name": "python3"
  },
  "language_info": {
   "codemirror_mode": {
    "name": "ipython",
    "version": 3
   },
   "file_extension": ".py",
   "mimetype": "text/x-python",
   "name": "python",
   "nbconvert_exporter": "python",
   "pygments_lexer": "ipython3",
   "version": "3.11.4"
  }
 },
 "nbformat": 4,
 "nbformat_minor": 5
}
